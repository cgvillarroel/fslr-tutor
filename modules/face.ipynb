{
    "cells": [
        {
            "cell_type": "code",
            "execution_count": 1,
            "id": "f52881ca",
            "metadata": {
                "trusted": true
            },
            "outputs": [],
            "source": "# Allow imports from another folder\nimport os\nimport sys\nmodule_path = os.path.abspath(os.path.join('..'))\nif module_path not in sys.path:\n    sys.path.append(module_path)"
        },
        {
            "cell_type": "code",
            "execution_count": 2,
            "id": "6c960743",
            "metadata": {
                "trusted": true
            },
            "outputs": [],
            "source": "from structs.types import Gesture, Clip\nfrom structs.functions import euclideanDistance, cosine\n\n\ndef extractKeyLandmarks(face_landmarks):\n    return [\n        face_landmarks[336], # left inner eyebrow\n        face_landmarks[334], # left middle eyebrow\n        face_landmarks[300], # left outer eyebrow\n\n        face_landmarks[107], # right inner eyebrow\n        face_landmarks[105], # right middle eyebrow\n        face_landmarks[70], # right outer eyebrow\n\n        face_landmarks[386], # left upper eyelid\n        face_landmarks[374], # left lower eyelid\n\n        face_landmarks[159], # right upper eyelid\n        face_landmarks[145], # right lower eyelid\n\n        face_landmarks[291], # left lip\n        face_landmarks[61], # right lip\n\n        face_landmarks[0], # outer upper lip\n        face_landmarks[13], # inner upper lip\n        face_landmarks[14], # inner lower lip\n        face_landmarks[17], # outer lower lip\n    ]\n\n\ndef compareFacesEuclid(clip1: Clip, clip2: Clip):\n    error = 0\n\n    samples1 = []\n    samples2 = []\n\n    samples_per_clip = 6\n    samples_per_clip += 1\n    interval1 = len(clip1.frames) // samples_per_clip\n    interval2 = len(clip2.frames) // samples_per_clip\n\n    # transform into a more manageable structure (array of points)\n    for frame in clip1.frames[interval1 : interval1 * samples_per_clip : interval1]:\n        samples1.append(extractKeyLandmarks(frame.face_landmarks))\n\n    for frame in clip2.frames[interval2 : interval2 * samples_per_clip : interval2]:\n        samples2.append(extractKeyLandmarks(frame.face_landmarks))\n\n    # compute total error\n    for sample1, sample2 in zip(samples1, samples2):\n        for point1, point2 in zip(sample1, sample2):\n            error += euclideanDistance(point1, point2)\n\n    return error\n\n\ndef compareFacesCosine(clip1: Clip, clip2: Clip):\n    samples1 = []\n    samples2 = []\n\n    samples_per_clip = 6\n    samples_per_clip += 1\n    interval1 = len(clip1.frames) // samples_per_clip\n    interval2 = len(clip2.frames) // samples_per_clip\n\n    # transform into a more manageable structure (array of points)\n    for frame in clip1.frames[interval1 : interval1 * samples_per_clip : interval1]:\n        _ = [samples1.extend([a.x, a.y]) for a in extractKeyLandmarks(frame.face_landmarks)]\n\n    for frame in clip2.frames[interval2 : interval2 * samples_per_clip : interval2]:\n        _ = [samples2.extend([a.x, a.y]) for a in extractKeyLandmarks(frame.face_landmarks)]\n\n    return cosine(samples1, samples2)"
        },
        {
            "cell_type": "code",
            "execution_count": 3,
            "id": "7abc084d",
            "metadata": {
                "trusted": true
            },
            "outputs": [
                {
                    "name": "stdout",
                    "output_type": "stream",
                    "text": "0.9991021788900342\n0.9994577424395623\n2.0369132841861024\n1.5299384905338722\n"
                }
            ],
            "source": "# Sample usage\nif __name__ == \"__main__\":\n    import pickle\n\n    data: list[Gesture] = []\n\n    with open(\"../dataset/gestures/0.pkl\", \"rb\") as reader:\n        data.append(pickle.load(reader))\n\n    with open(\"../dataset/gestures/1.pkl\", \"rb\") as reader:\n        data.append(pickle.load(reader))\n\n    print(compareFacesCosine(data[0].clips[0], data[0].clips[1]))\n    print(compareFacesCosine(data[0].clips[0], data[1].clips[0]))\n\n    print(compareFacesEuclid(data[0].clips[0], data[0].clips[1]))\n    print(compareFacesEuclid(data[0].clips[0], data[1].clips[0]))"
        }
    ],
    "metadata": {
        "jupytext": {
            "notebook_metadata_filter": "-all"
        },
        "kernelspec": {
            "display_name": "Python 3 (ipykernel)",
            "language": "python",
            "name": "python3"
        },
        "language_info": {
            "codemirror_mode": {
                "name": "ipython",
                "version": 3
            },
            "file_extension": ".py",
            "mimetype": "text/x-python",
            "name": "python",
            "nbconvert_exporter": "python",
            "pygments_lexer": "ipython3",
            "version": "3.12.5"
        }
    },
    "nbformat": 4,
    "nbformat_minor": 5
}