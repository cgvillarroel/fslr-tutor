{
 "cells": [
  {
   "cell_type": "code",
   "execution_count": 1,
   "id": "fe80b76a",
   "metadata": {
    "lines_to_next_cell": 2
   },
   "outputs": [],
   "source": [
    "# Allow imports from another folder\n",
    "import os\n",
    "import sys\n",
    "module_path = os.path.abspath(os.path.join('..'))\n",
    "if module_path not in sys.path:\n",
    "    sys.path.append(module_path)"
   ]
  },
  {
   "cell_type": "code",
   "execution_count": 2,
   "id": "74b849a1",
   "metadata": {},
   "outputs": [],
   "source": [
    "from structs.types import Gesture, Clip, NormalizedLandmark\n",
    "from structs.functions import euclideanDistance\n",
    "\n",
    "def compareHandShapes(clip1: Clip, clip2: Clip):\n",
    "    left_error = 0\n",
    "    right_error = 0\n",
    "\n",
    "    left_samples1 = []\n",
    "    left_samples2 = []\n",
    "    right_samples1 = []\n",
    "    right_samples2 = []\n",
    "\n",
    "    samples_per_clip = 6\n",
    "    interval1 = len(clip1.frames) // samples_per_clip\n",
    "    interval2 = len(clip2.frames) // samples_per_clip\n",
    "\n",
    "    # transform into a more manageable structure (array of points)\n",
    "    for frame in clip1.frames[:interval1 * samples_per_clip:interval1]:\n",
    "        if (frame.pose_landmarks[15].visibility < 0.9\n",
    "                or len(frame.left_hand_landmarks) == 0):\n",
    "            left_samples1.append([NormalizedLandmark(0.0, 0.0, 0.0)] * 42)\n",
    "\n",
    "        left_samples1.append(frame.left_hand_landmarks)\n",
    "\n",
    "    for frame in clip2.frames[:interval2 * samples_per_clip:interval2]:\n",
    "        if (frame.pose_landmarks[15].visibility < 0.9\n",
    "                or len(frame.left_hand_landmarks) == 0):\n",
    "            left_samples2.append([NormalizedLandmark(0.0, 0.0, 0.0)] * 42)\n",
    "\n",
    "        left_samples2.append(frame.left_hand_landmarks)\n",
    "\n",
    "    for frame in clip1.frames[:interval1 * samples_per_clip:interval1]:\n",
    "        if (frame.pose_landmarks[16].visibility < 0.9\n",
    "                or len(frame.right_hand_landmarks) == 0):\n",
    "            right_samples1.append([NormalizedLandmark(0.0, 0.0, 0.0)] * 42)\n",
    "\n",
    "        right_samples1.append(frame.right_hand_landmarks)\n",
    "\n",
    "    for frame in clip2.frames[:interval2 * samples_per_clip:interval2]:\n",
    "        if (frame.pose_landmarks[16].visibility < 0.9\n",
    "                or len(frame.right_hand_landmarks) == 0):\n",
    "            right_samples2.append([NormalizedLandmark(0.0, 0.0, 0.0)] * 42)\n",
    "\n",
    "        right_samples2.append(frame.right_hand_landmarks)\n",
    "\n",
    "    # compute total error\n",
    "    for left_sample1, left_sample2 in zip(left_samples1, left_samples2):\n",
    "        for point1, point2 in zip(left_sample1, left_sample2):\n",
    "            left_error += euclideanDistance(point1, point2)\n",
    "\n",
    "    for right_sample1, right_sample2 in zip(right_samples1, right_samples2):\n",
    "        for point1, point2 in zip(right_sample1, right_sample2):\n",
    "            right_error += euclideanDistance(point1, point2)\n",
    "\n",
    "    return left_error, right_error"
   ]
  },
  {
   "cell_type": "code",
   "execution_count": 3,
   "id": "9397715c",
   "metadata": {},
   "outputs": [
    {
     "name": "stdout",
     "output_type": "stream",
     "text": [
      "(0.0, 26.829646074244806)\n",
      "(0.0, 40.03717527633355)\n"
     ]
    }
   ],
   "source": [
    "# Sample usage\n",
    "if __name__ == \"__main__\":\n",
    "    import pickle\n",
    "\n",
    "    data: list[Gesture] = []\n",
    "\n",
    "    with open(\"../dataset/gestures/0.pkl\", \"rb\") as reader:\n",
    "        data.append(pickle.load(reader))\n",
    "\n",
    "    with open(\"../dataset/gestures/1.pkl\", \"rb\") as reader:\n",
    "        data.append(pickle.load(reader))\n",
    "\n",
    "    print(compareHandShapes(data[0].clips[0], data[0].clips[1]))\n",
    "    print(compareHandShapes(data[0].clips[0], data[1].clips[0]))"
   ]
  }
 ],
 "metadata": {
  "jupytext": {
   "notebook_metadata_filter": "-all"
  },
  "kernelspec": {
   "display_name": "Python 3 (ipykernel)",
   "language": "python",
   "name": "python3"
  },
  "language_info": {
   "codemirror_mode": {
    "name": "ipython",
    "version": 3
   },
   "file_extension": ".py",
   "mimetype": "text/x-python",
   "name": "python",
   "nbconvert_exporter": "python",
   "pygments_lexer": "ipython3",
   "version": "3.12.5"
  }
 },
 "nbformat": 4,
 "nbformat_minor": 5
}
