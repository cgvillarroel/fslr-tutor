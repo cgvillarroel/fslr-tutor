{
    "cells": [
        {
            "cell_type": "code",
            "execution_count": 1,
            "id": "fe80b76a",
            "metadata": {
                "lines_to_next_cell": 2,
                "trusted": true
            },
            "outputs": [],
            "source": "# Allow imports from another folder\nimport os\nimport sys\nmodule_path = os.path.abspath(os.path.join('..'))\nif module_path not in sys.path:\n    sys.path.append(module_path)"
        },
        {
            "cell_type": "code",
            "execution_count": 2,
            "id": "74b849a1",
            "metadata": {
                "trusted": true
            },
            "outputs": [],
            "source": "from structs.types import Gesture, Clip, NormalizedLandmark\nfrom structs.functions import euclideanDistance, cosine\n\ndef compareHandShapesEuclid(clip1: Clip, clip2: Clip):\n    left_error = 0\n    right_error = 0\n\n    left_samples1 = []\n    left_samples2 = []\n    right_samples1 = []\n    right_samples2 = []\n\n    samples_per_clip = 6\n    samples_per_clip += 1\n    interval1 = len(clip1.frames) // samples_per_clip\n    interval2 = len(clip2.frames) // samples_per_clip\n\n    # transform into a more manageable structure (array of points)\n    for frame in clip1.frames[interval1 : interval1 * samples_per_clip : interval1]:\n        if (frame.pose_landmarks[15].visibility < 0.9\n                or len(frame.left_hand_landmarks) == 0):\n            left_samples1.append([NormalizedLandmark(0.0, 0.0, 0.0)] * 21)\n            continue\n\n        left_samples1.append(frame.left_hand_landmarks)\n\n    for frame in clip2.frames[interval2 : interval2 * samples_per_clip : interval2]:\n        if (frame.pose_landmarks[15].visibility < 0.9\n                or len(frame.left_hand_landmarks) == 0):\n            left_samples2.append([NormalizedLandmark(0.0, 0.0, 0.0)] * 21)\n            continue\n\n        left_samples2.append(frame.left_hand_landmarks)\n\n    for frame in clip1.frames[interval1 : interval1 * samples_per_clip : interval1]:\n        if (frame.pose_landmarks[16].visibility < 0.9\n                or len(frame.right_hand_landmarks) == 0):\n            right_samples1.append([NormalizedLandmark(0.0, 0.0, 0.0)] * 21)\n            continue\n\n        right_samples1.append(frame.right_hand_landmarks)\n\n    for frame in clip2.frames[interval2 : interval2 * samples_per_clip : interval2]:\n        if (frame.pose_landmarks[16].visibility < 0.9\n                or len(frame.right_hand_landmarks) == 0):\n            right_samples2.append([NormalizedLandmark(0.0, 0.0, 0.0)] * 21)\n            continue\n\n        right_samples2.append(frame.right_hand_landmarks)\n\n    # compute total error\n    for left_sample1, left_sample2 in zip(left_samples1, left_samples2):\n        for point1, point2 in zip(left_sample1, left_sample2):\n            left_error += euclideanDistance(point1, point2)\n\n    for right_sample1, right_sample2 in zip(right_samples1, right_samples2):\n        for point1, point2 in zip(right_sample1, right_sample2):\n            right_error += euclideanDistance(point1, point2)\n\n    return left_error, right_error\n\n\ndef compareHandShapesCosine(clip1: Clip, clip2: Clip):\n    left_samples1 = []\n    left_samples2 = []\n    right_samples1 = []\n    right_samples2 = []\n\n    samples_per_clip = 6\n    samples_per_clip += 1\n    interval1 = len(clip1.frames) // samples_per_clip\n    interval2 = len(clip2.frames) // samples_per_clip\n\n    # transform into a more manageable structure (array of points)\n    for frame in clip1.frames[interval1 : interval1 * samples_per_clip : interval1]:\n        if (frame.pose_landmarks[15].visibility < 0.9\n                or len(frame.left_hand_landmarks) == 0):\n            left_samples1.extend([1.0, 1.0] * 21)\n            continue\n\n        _ = [left_samples1.extend([a.x, a.y]) for a in frame.left_hand_landmarks]\n\n    for frame in clip2.frames[interval2 : interval2 * samples_per_clip : interval2]:\n        if (frame.pose_landmarks[15].visibility < 0.9\n                or len(frame.left_hand_landmarks) == 0):\n            left_samples2.extend([1.0, 1.0] * 21)\n            continue\n\n        _ = [left_samples2.extend([a.x, a.y]) for a in frame.left_hand_landmarks]\n\n    for frame in clip1.frames[interval1 : interval1 * samples_per_clip : interval1]:\n        if (frame.pose_landmarks[16].visibility < 0.9\n                or len(frame.right_hand_landmarks) == 0):\n            right_samples1.extend([1.0, 1.0] * 21)\n            continue\n\n        _ = [right_samples1.extend([a.x, a.y]) for a in frame.right_hand_landmarks]\n\n    for frame in clip2.frames[interval2 : interval2 * samples_per_clip : interval2]:\n        if (frame.pose_landmarks[16].visibility < 0.9\n                or len(frame.right_hand_landmarks) == 0):\n            right_samples2.extend([1.0, 1.0] * 21)\n            continue\n\n        _ = [right_samples2.extend([a.x, a.y]) for a in frame.right_hand_landmarks]\n\n    return cosine(left_samples1, left_samples2), cosine(right_samples1, right_samples2)"
        },
        {
            "cell_type": "code",
            "execution_count": 3,
            "id": "9397715c",
            "metadata": {
                "trusted": true
            },
            "outputs": [
                {
                    "name": "stdout",
                    "output_type": "stream",
                    "text": "(0.9999999999999999, 0.8604159506577075)\n(0.9999999999999999, 0.8478517278004171)\n"
                }
            ],
            "source": "# Sample usage\nif __name__ == \"__main__\":\n    import pickle\n\n    data: list[Gesture] = []\n\n    with open(\"../dataset/gestures/0.pkl\", \"rb\") as reader:\n        data.append(pickle.load(reader))\n\n    with open(\"../dataset/gestures/1.pkl\", \"rb\") as reader:\n        data.append(pickle.load(reader))\n\n    print(compareHandShapesCosine(data[0].clips[0], data[0].clips[1]))\n    print(compareHandShapesCosine(data[0].clips[0], data[1].clips[0]))\n\n    print(compareHandShapesEuclid(data[0].clips[0], data[0].clips[1]))\n    print(compareHandShapesEuclid(data[0].clips[0], data[1].clips[0]))"
        }
    ],
    "metadata": {
        "jupytext": {
            "notebook_metadata_filter": "-all"
        },
        "kernelspec": {
            "display_name": "Python 3 (ipykernel)",
            "language": "python",
            "name": "python3"
        },
        "language_info": {
            "codemirror_mode": {
                "name": "ipython",
                "version": 3
            },
            "file_extension": ".py",
            "mimetype": "text/x-python",
            "name": "python",
            "nbconvert_exporter": "python",
            "pygments_lexer": "ipython3",
            "version": "3.12.5"
        }
    },
    "nbformat": 4,
    "nbformat_minor": 5
}