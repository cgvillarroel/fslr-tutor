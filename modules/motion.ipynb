{
    "cells": [
        {
            "cell_type": "code",
            "execution_count": 1,
            "id": "7c77805c",
            "metadata": {
                "lines_to_next_cell": 2,
                "trusted": true
            },
            "outputs": [],
            "source": "# Allow imports from another folder\nimport os\nimport sys\nmodule_path = os.path.abspath(os.path.join('..'))\nif module_path not in sys.path:\n    sys.path.append(module_path)"
        },
        {
            "cell_type": "code",
            "execution_count": 2,
            "id": "9a00dd62",
            "metadata": {
                "trusted": true
            },
            "outputs": [],
            "source": "import numpy as np\n\n# https://github.com/kamperh/lecture_dtw_notebook/blob/main/dtw.ipynb\n\n\ndef dtw(x, y, cost):\n    N = x.shape[0]\n    M = y.shape[0]\n    dist_mat = np.zeros((N, M))\n    for i in range(N):\n        for j in range(M):\n            dist_mat[i, j] = cost(x[i], y[j])\n\n    N, M = dist_mat.shape\n\n    # Initialize the cost matrix\n    cost_mat = np.zeros((N + 1, M + 1))\n    for i in range(1, N + 1):\n        cost_mat[i, 0] = np.inf\n    for i in range(1, M + 1):\n        cost_mat[0, i] = np.inf\n\n    # Fill the cost matrix while keeping traceback information\n    traceback_mat = np.zeros((N, M))\n    for i in range(N):\n        for j in range(M):\n            penalty = [\n                cost_mat[i, j],      # match (0)\n                cost_mat[i, j + 1],  # insertion (1)\n                cost_mat[i + 1, j]]  # deletion (2)\n            i_penalty = np.argmin(penalty)\n            cost_mat[i + 1, j + 1] = dist_mat[i, j] + penalty[i_penalty]\n            traceback_mat[i, j] = i_penalty\n\n    # Traceback from bottom right\n    i = N - 1\n    j = M - 1\n    path = [(i, j)]\n    while i > 0 or j > 0:\n        tb_type = traceback_mat[i, j]\n        if tb_type == 0:\n            # Match\n            i = i - 1\n            j = j - 1\n        elif tb_type == 1:\n            # Insertion\n            i = i - 1\n        elif tb_type == 2:\n            # Deletion\n            j = j - 1\n        path.append((i, j))\n\n    # Strip infinity edges from cost_mat before returning\n    cost_mat = cost_mat[1:, 1:]\n    # return (path[::-1], cost_mat)\n\n    return cost_mat[N - 1, M - 1], cost_mat[N - 1, M - 1] / (N + M)"
        },
        {
            "cell_type": "code",
            "execution_count": 3,
            "id": "1989585b",
            "metadata": {
                "trusted": true
            },
            "outputs": [],
            "source": "from structs.functions import cosine\nfrom structs.types import Frame\n\n\n# creates a cost function which indexes the correct joint\ndef cost_function_generator(landmark_idx):\n    def cost(frame1: Frame, frame2: Frame):\n        frame1_point = frame1.pose_landmarks[landmark_idx]\n        frame2_point = frame2.pose_landmarks[landmark_idx]\n        return cosine([frame1_point.x, frame1_point.y], [frame2_point.x, frame2_point.y])\n\n    return cost"
        },
        {
            "cell_type": "code",
            "execution_count": 4,
            "id": "1320289e",
            "metadata": {
                "trusted": true
            },
            "outputs": [],
            "source": "def compareMotions(series1, series2):\n    delta_length = len(series2) - len(series1)\n    if delta_length < 0:\n        delta_length = abs(delta_length)\n        series1 = series1[delta_length // 2: -delta_length // 2]\n    elif delta_length > 0:\n        delta_length = abs(delta_length)\n        series2 = series2[delta_length // 2: -delta_length // 2]\n\n    results = []\n    for i in range(11, 17):\n        results.append(dtw(np.array(series1), np.array(series2), cost_function_generator(i))[1])\n\n    return results"
        },
        {
            "cell_type": "code",
            "execution_count": null,
            "id": "89cf908e",
            "metadata": {
                "trusted": true
            },
            "outputs": [],
            "source": "def compareMotionsSegmented(series1, series2):\n    delta_length = len(series2) - len(series1)\n    if delta_length < 0:\n        delta_length = abs(delta_length)\n        series1 = series1[delta_length // 2: -delta_length // 2]\n    elif delta_length > 0:\n        delta_length = abs(delta_length)\n        series2 = series2[delta_length // 2: -delta_length // 2]\n\n    segments = 6\n    interval = len(series1) // segments\n\n    overall_result = [0] * 6\n    for i in range(segments):\n        segment1 = series1[i * interval: (i + 1) * interval]\n        segment2 = series2[i * interval: (i + 1) * interval]\n        segment_results = compareMotions(segment1, segment2)\n\n        for key, result in enumerate(segment_results):\n            overall_result[key] = result\n\n    return overall_result"
        },
        {
            "cell_type": "code",
            "execution_count": 5,
            "id": "cd821b39",
            "metadata": {
                "trusted": true
            },
            "outputs": [
                {
                    "name": "stdout",
                    "output_type": "stream",
                    "text": "[np.float64(0.5019937504593358), np.float64(0.48877732048602485), np.float64(0.5018875053344033), np.float64(0.48956091373530314), np.float64(0.5018334371629652), np.float64(0.4335386301293349)]\n[np.float64(0.5020007275906272), np.float64(0.49629914550342824), np.float64(0.5019749144028722), np.float64(0.4988703108570067), np.float64(0.5012235857847652), np.float64(0.47950788045866605)]\n"
                }
            ],
            "source": "# Sample Usage\nif __name__ == \"__main__\":\n    import pickle\n\n    data = []\n\n    with open(\"../dataset/gestures/0.pkl\", \"rb\") as reader:\n        data.append(pickle.load(reader))\n\n    with open(\"../dataset/gestures/6.pkl\", \"rb\") as reader:\n        data.append(pickle.load(reader))\n\n    print(compareMotions(data[0].clips[0].frames, data[0].clips[1].frames))\n    print(compareMotions(data[0].clips[0].frames, data[1].clips[0].frames))\n\n    print(compareMotionsSegmented(data[0].clips[0].frames, data[0].clips[1].frames))\n    print(compareMotionsSegmented(data[0].clips[0].frames, data[1].clips[0].frames))"
        }
    ],
    "metadata": {
        "jupytext": {
            "cell_metadata_filter": "-all",
            "notebook_metadata_filter": "-all"
        },
        "kernelspec": {
            "display_name": "Python 3 (ipykernel)",
            "language": "python",
            "name": "python3"
        },
        "language_info": {
            "codemirror_mode": {
                "name": "ipython",
                "version": 3
            },
            "file_extension": ".py",
            "mimetype": "text/x-python",
            "name": "python",
            "nbconvert_exporter": "python",
            "pygments_lexer": "ipython3",
            "version": "3.12.5"
        }
    },
    "nbformat": 4,
    "nbformat_minor": 5
}