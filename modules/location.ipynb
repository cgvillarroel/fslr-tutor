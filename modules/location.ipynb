{
    "cells": [
        {
            "cell_type": "code",
            "execution_count": 1,
            "id": "1d2b9289",
            "metadata": {
                "trusted": true
            },
            "outputs": [],
            "source": "# Allow imports from another folder\nimport os\nimport sys\nmodule_path = os.path.abspath(os.path.join('..'))\nif module_path not in sys.path:\n    sys.path.append(module_path)"
        },
        {
            "cell_type": "code",
            "execution_count": 2,
            "id": "dbd02c1e",
            "metadata": {
                "trusted": true
            },
            "outputs": [],
            "source": "def determineBucket(hand, left_shoulder, right_shoulder):\n    if hand.y < left_shoulder.y:\n\n        if hand.x < right_shoulder.x:\n            return 0\n\n        if hand.x < left_shoulder.x:\n            return 1\n\n        return 2\n\n    if hand.x < right_shoulder.x:\n        return 3\n\n    if hand.x < left_shoulder.x:\n        return 4\n\n    return 5"
        },
        {
            "cell_type": "code",
            "execution_count": 3,
            "id": "644778d2",
            "metadata": {
                "trusted": true
            },
            "outputs": [],
            "source": "def trackBuckets(clip):\n    left_buckets = [0] * 6\n    right_buckets = [0] * 6\n\n    for frame in clip.frames:\n        # shoulders act as boundary markers for buckets\n        left_shoulder = frame.pose_landmarks[11]\n        right_shoulder = frame.pose_landmarks[12]\n        left_shoulder.y = (left_shoulder.y + right_shoulder.y) / 2\n        right_shoulder.y = left_shoulder.y\n\n        left_wrist = frame.pose_landmarks[15]\n        right_wrist = frame.pose_landmarks[16]\n\n        # only track when sure to be wrist (avoid phantoms)\n        if left_wrist.visibility > 0.9:\n            left_idx = determineBucket(left_wrist, left_shoulder, right_shoulder)\n            left_buckets[left_idx] += 1\n        # if not in frame, assume it's at their side\n        # to avoid zero vectors\n        else:\n            left_buckets[5] += 1\n\n        # only track when sure to be wrist (avoid phantoms)\n        if right_wrist.visibility > 0.9:\n            right_idx = determineBucket(right_wrist, left_shoulder, right_shoulder)\n            right_buckets[right_idx] += 1\n        # if not in frame, assume it's at their side\n        # to avoid zero vectors\n        else:\n            right_buckets[3] += 1\n\n    return left_buckets, right_buckets"
        },
        {
            "cell_type": "code",
            "execution_count": 4,
            "id": "98b09037",
            "metadata": {
                "trusted": true
            },
            "outputs": [],
            "source": "from structs.functions import cosine\ndef compareHandLocations(clip1, clip2):\n    buckets1 = trackBuckets(clip1)\n    buckets2 = trackBuckets(clip2)\n\n    return cosine(buckets1[0], buckets2[0]), cosine(buckets1[1], buckets2[1])"
        },
        {
            "cell_type": "code",
            "execution_count": 5,
            "id": "d0da8e8e",
            "metadata": {
                "trusted": true
            },
            "outputs": [
                {
                    "name": "stdout",
                    "output_type": "stream",
                    "text": "(1.0, 0.994568950083734)\n(0.8783201181308974, 0.9921621959008793)\n"
                }
            ],
            "source": "# Sample Usage\nif __name__ == \"__main__\":\n    import pickle\n\n    data = []\n\n    with open(\"../dataset/gestures/0.pkl\", \"rb\") as reader:\n        data.append(pickle.load(reader))\n\n    with open(\"../dataset/gestures/6.pkl\", \"rb\") as reader:\n        data.append(pickle.load(reader))\n\n    print(compareHandLocations(data[0].clips[0], data[0].clips[1]))\n    print(compareHandLocations(data[0].clips[0], data[1].clips[0]))"
        }
    ],
    "metadata": {
        "jupytext": {
            "cell_metadata_filter": "-all",
            "main_language": "python",
            "notebook_metadata_filter": "-all"
        },
        "kernelspec": {
            "display_name": "Python 3 (ipykernel)",
            "language": "python",
            "name": "python3"
        },
        "language_info": {
            "codemirror_mode": {
                "name": "ipython",
                "version": 3
            },
            "file_extension": ".py",
            "mimetype": "text/x-python",
            "name": "python",
            "nbconvert_exporter": "python",
            "pygments_lexer": "ipython3",
            "version": "3.12.5"
        }
    },
    "nbformat": 4,
    "nbformat_minor": 5
}