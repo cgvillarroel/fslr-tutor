{
    "cells": [
        {
            "cell_type": "code",
            "execution_count": 1,
            "id": "145ce568",
            "metadata": {
                "trusted": true
            },
            "outputs": [],
            "source": "import importlib.util \n\ndef import_from_file(file_name, module_name):\n\n    spec = importlib.util.spec_from_file_location(\n        name=module_name,\n        location=file_name,\n    )\n    module = importlib.util.module_from_spec(spec)\n    spec.loader.exec_module(module)\n\n    return module\n\nlocation = import_from_file(\"modules/location.ju.py\", \"location\")\nmotion = import_from_file(\"modules/motion.ju.py\", \"motion\")\nshape = import_from_file(\"modules/shape.ju.py\", \"shape\")"
        },
        {
            "cell_type": "code",
            "execution_count": 5,
            "id": "5287b37d",
            "metadata": {
                "trusted": true
            },
            "outputs": [
                {
                    "name": "stdout",
                    "output_type": "stream",
                    "text": "(1.0, 0.994568950083734)\n(0.8783201181308974, 0.9921621959008793)\n[np.float64(0.5020077898939694), np.float64(0.489676768815614), np.float64(0.5018875053344033), np.float64(0.48956091373530314), np.float64(0.5018334371629652), np.float64(0.4335386301293349)]\n[np.float64(0.5020065143429975), np.float64(0.49642881538556055), np.float64(0.5019749144028722), np.float64(0.4988703108570067), np.float64(0.5012235857847652), np.float64(0.47950788045866605)]\n(0.0, 26.829646074244806)\n(12.132816047486495, 25.436985453688248)\n"
                }
            ],
            "source": "import pickle\n\ndata = []\n\nwith open(\"dataset/gestures/0.pkl\", \"rb\") as reader:\n    data.append(pickle.load(reader))\n\nwith open(\"dataset/gestures/6.pkl\", \"rb\") as reader:\n    data.append(pickle.load(reader))\n\nprint(location.compareHandLocations(data[0].clips[0], data[0].clips[1]))\nprint(location.compareHandLocations(data[0].clips[0], data[1].clips[0]))\n\nprint(motion.compareMotions(data[0].clips[0], data[0].clips[1]))\nprint(motion.compareMotions(data[0].clips[0], data[1].clips[0]))\n\nprint(shape.compareHandShapes(data[0].clips[0], data[0].clips[1]))\nprint(shape.compareHandShapes(data[0].clips[0], data[1].clips[0]))"
        }
    ],
    "metadata": {
        "jupytext": {
            "notebook_metadata_filter": "-all"
        },
        "kernelspec": {
            "display_name": "Python 3 (ipykernel)",
            "language": "python",
            "name": "python3"
        },
        "language_info": {
            "codemirror_mode": {
                "name": "ipython",
                "version": 3
            },
            "file_extension": ".py",
            "mimetype": "text/x-python",
            "name": "python",
            "nbconvert_exporter": "python",
            "pygments_lexer": "ipython3",
            "version": "3.12.5"
        }
    },
    "nbformat": 4,
    "nbformat_minor": 5
}