{
    "cells": [
        {
            "cell_type": "code",
            "execution_count": 15,
            "id": "fe80b76a",
            "metadata": {
                "lines_to_next_cell": 1,
                "trusted": true
            },
            "outputs": [],
            "source": "from structs.types import Gesture, Clip, NormalizedLandmark\ndef extractLeftHandShapes(clip: Clip):\n    features = []\n    samples_per_clip = 6\n    interval = len(clip.frames) // samples_per_clip\n\n    for frame in clip.frames[:interval * samples_per_clip:interval]:\n        if (frame.pose_landmarks[15].visibility < 0.9\n                or len(frame.left_hand_landmarks) == 0):\n            features.extend([1] * 42)\n\n        features.extend([[a.x, a.y] for a in frame.left_hand_landmarks])\n\n    return features\n\ndef extractRightHandShapes(clip: Clip):\n    features = []\n    samples_per_clip = 6\n    interval = len(clip.frames) // samples_per_clip\n\n    for frame in clip.frames[:interval * samples_per_clip:interval]:\n        if (frame.pose_landmarks[16].visibility < 0.9\n                or len(frame.right_hand_landmarks) == 0):\n            features.extend([1] * 42)\n\n        _ = [features.extend([a.x, a.y]) for a in frame.right_hand_landmarks]\n\n    return features"
        },
        {
            "cell_type": "code",
            "execution_count": 2,
            "id": "74b849a1",
            "metadata": {
                "lines_to_next_cell": 1,
                "trusted": true
            },
            "outputs": [],
            "source": "import math\ndef euclideanDistance(point1: NormalizedLandmark, point2: NormalizedLandmark):\n    x = point2.x - point1.x\n    y = point2.y - point1.y\n    return math.sqrt((x ** 2) + (y ** 2))\n\ndef compareHandShapes(clip1: Clip, clip2: Clip):\n    left_error = 0\n    right_error = 0\n\n    left_samples1 = []\n    left_samples2 = []\n    right_samples1 = []\n    right_samples2 = []\n\n    samples_per_clip = 6\n    interval1 = len(clip1.frames) // samples_per_clip\n    interval2 = len(clip2.frames) // samples_per_clip\n\n    # transform into a more manageable structure (array of points)\n    for frame in clip1.frames[:interval1 * samples_per_clip:interval1]:\n        if (frame.pose_landmarks[15].visibility < 0.9\n                or len(frame.left_hand_landmarks) == 0):\n            left_samples1.append([NormalizedLandmark(0.0, 0.0, 0.0)] * 42)\n\n        left_samples1.append(frame.left_hand_landmarks)\n\n    for frame in clip2.frames[:interval2 * samples_per_clip:interval2]:\n        if (frame.pose_landmarks[15].visibility < 0.9\n                or len(frame.left_hand_landmarks) == 0):\n            left_samples2.append([NormalizedLandmark(0.0, 0.0, 0.0)] * 42)\n\n        left_samples2.append(frame.left_hand_landmarks)\n\n    for frame in clip1.frames[:interval1 * samples_per_clip:interval1]:\n        if (frame.pose_landmarks[16].visibility < 0.9\n                or len(frame.right_hand_landmarks) == 0):\n            right_samples1.append([NormalizedLandmark(0.0, 0.0, 0.0)] * 42)\n\n        right_samples1.append(frame.right_hand_landmarks)\n\n    for frame in clip2.frames[:interval2 * samples_per_clip:interval2]:\n        if (frame.pose_landmarks[16].visibility < 0.9\n                or len(frame.right_hand_landmarks) == 0):\n            right_samples2.append([NormalizedLandmark(0.0, 0.0, 0.0)] * 42)\n\n        right_samples2.append(frame.right_hand_landmarks)\n\n    # compute total error\n    for left_sample1, left_sample2 in zip(left_samples1, left_samples2):\n        for point1, point2 in zip(left_sample1, left_sample2):\n            left_error += euclideanDistance(point1, point2)\n\n    for right_sample1, right_sample2 in zip(right_samples1, right_samples2):\n        for point1, point2 in zip(right_sample1, right_sample2):\n            right_error += euclideanDistance(point1, point2)\n\n    return left_error, right_error"
        },
        {
            "cell_type": "code",
            "execution_count": 29,
            "id": "9397715c",
            "metadata": {
                "trusted": true
            },
            "outputs": [],
            "source": "def compareFaces(clip1: Clip, clip2: Clip):\n    error = 0\n\n    samples1 = []\n    samples2 = []\n\n    samples_per_clip = 6\n    interval1 = len(clip1.frames) // samples_per_clip\n    interval2 = len(clip2.frames) // samples_per_clip\n\n    # transform into a more manageable structure (array of points)\n    for frame in clip1.frames[:interval1 * samples_per_clip:interval1]:\n        samples1.append(frame.face_landmarks)\n\n    for frame in clip2.frames[:interval2 * samples_per_clip:interval2]:\n        samples2.append(frame.face_landmarks)\n\n    # compute total error\n    for sample1, sample2 in zip(samples1, samples2):\n        for point1, point2 in zip(sample1, sample2):\n            error += euclideanDistance(point1, point2)\n\n    return error"
        },
        {
            "cell_type": "code",
            "execution_count": 3,
            "id": "5490d844",
            "metadata": {
                "trusted": true
            },
            "outputs": [],
            "source": "import pickle\nfrom structs.functions import cosine\n\ndata: list[Gesture] = []\n\nwith open(\"dataset/gestures/0.pkl\", \"rb\") as reader:\n    data.append(pickle.load(reader))\n\nwith open(\"dataset/gestures/1.pkl\", \"rb\") as reader:\n    data.append(pickle.load(reader))"
        },
        {
            "cell_type": "code",
            "execution_count": 16,
            "id": "2e171896",
            "metadata": {
                "trusted": true
            },
            "outputs": [
                {
                    "name": "stdout",
                    "output_type": "stream",
                    "text": "0.9999999999999999\n0.9022719964135912\n0.9999999999999999\n0.9070177786416637\n"
                }
            ],
            "source": "left_shapes = []\nleft_shapes.append(extractLeftHandShapes(data[0].clips[0]))\nleft_shapes.append(extractLeftHandShapes(data[0].clips[1]))\nleft_shapes.append(extractLeftHandShapes(data[1].clips[0]))\n\nright_shapes = []\nright_shapes.append(extractRightHandShapes(data[0].clips[0]))\nright_shapes.append(extractRightHandShapes(data[0].clips[1]))\nright_shapes.append(extractRightHandShapes(data[1].clips[0]))\n\nprint(cosine(left_shapes[0], left_shapes[1]))\nprint(cosine(right_shapes[0], right_shapes[1]))\nprint(cosine(left_shapes[0], left_shapes[2]))\nprint(cosine(right_shapes[0], right_shapes[2]))"
        },
        {
            "cell_type": "code",
            "execution_count": 5,
            "id": "16e01fa1",
            "metadata": {
                "trusted": true
            },
            "outputs": [
                {
                    "name": "stdout",
                    "output_type": "stream",
                    "text": "(0.0, 26.829646074244806)\n(0.0, 40.03717527633355)\n"
                }
            ],
            "source": "print(compareHandShapes(data[0].clips[0], data[0].clips[1]))\nprint(compareHandShapes(data[0].clips[0], data[1].clips[0]))"
        },
        {
            "cell_type": "code",
            "execution_count": 30,
            "id": "1cd6c3ea",
            "metadata": {
                "trusted": true
            },
            "outputs": [
                {
                    "name": "stdout",
                    "output_type": "stream",
                    "text": "67.01844948274028\n49.268495944441014\n"
                }
            ],
            "source": "print(compareFaces(data[0].clips[0], data[0].clips[1]))\nprint(compareFaces(data[0].clips[0], data[1].clips[0]))"
        }
    ],
    "metadata": {
        "jupytext": {
            "notebook_metadata_filter": "-all"
        },
        "kernelspec": {
            "display_name": "Python 3 (ipykernel)",
            "language": "python",
            "name": "python3"
        },
        "language_info": {
            "codemirror_mode": {
                "name": "ipython",
                "version": 3
            },
            "file_extension": ".py",
            "mimetype": "text/x-python",
            "name": "python",
            "nbconvert_exporter": "python",
            "pygments_lexer": "ipython3",
            "version": "3.12.5"
        }
    },
    "nbformat": 4,
    "nbformat_minor": 5
}