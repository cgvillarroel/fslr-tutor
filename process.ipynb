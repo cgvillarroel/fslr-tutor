{
    "cells": [
        {
            "cell_type": "code",
            "execution_count": 1,
            "id": "145ce568",
            "metadata": {
                "lines_to_next_cell": 2,
                "trusted": true
            },
            "outputs": [],
            "source": "# dots in file names mess up imports, manually do it\nimport importlib.util\nfrom structs.types import Result\n\ndef import_from_file(file_name, module_name):\n\n    spec = importlib.util.spec_from_file_location(\n        name=module_name,\n        location=file_name,\n    )\n    module = importlib.util.module_from_spec(spec)\n    spec.loader.exec_module(module)\n\n    return module\n\n\nlocation = import_from_file(\"modules/location.ju.py\", \"location\")\nmotion = import_from_file(\"modules/motion.ju.py\", \"motion\")\nshape = import_from_file(\"modules/shape.ju.py\", \"shape\")\nface = import_from_file(\"modules/face.ju.py\", \"shape\")"
        },
        {
            "cell_type": "code",
            "execution_count": 2,
            "id": "5287b37d",
            "metadata": {
                "lines_to_next_cell": 2,
                "trusted": true
            },
            "outputs": [
                {
                    "name": "stdout",
                    "output_type": "stream",
                    "text": "gesture 15  \r"
                }
            ],
            "source": "# load data\nimport pickle\n\ngestures = []\n\nfor i in range(16):\n    print(f\"gesture {i}  \", end=\"\\r\")\n    with open(f\"dataset/gestures/{i}.pkl\", \"rb\") as reader:\n        gestures.append(pickle.load(reader))"
        },
        {
            "cell_type": "code",
            "execution_count": 3,
            "id": "89a0ca14",
            "metadata": {
                "trusted": false
            },
            "outputs": [],
            "source": "# run through modules\n\ndef process(gesture_indices):\n    for i in gesture_indices:\n        print(f\"gesture {i} \", end=\"\\r\")\n        results = []\n        clip1 = gestures[i].clips[0]\n\n        # correct results (same gesture, different clip)\n        for j in range(1, 16):\n            result = Result(i, i)\n            clip2 = gestures[i].clips[j]\n            result.location_results = location.compareHandLocations(clip1, clip2)\n            result.motion_results = motion.compareMotions(clip1, clip2)\n            result.shape_results = shape.compareHandShapesCosine(clip1, clip2)\n            result.face_result = face.compareFacesCosine(clip1, clip2)\n            results.append(result)\n\n        # incorrect results (different gestures)\n        for j in range(0, i):\n            result = Result(i, j)\n            clip2 = gestures[j].clips[0]\n            result.location_results = location.compareHandLocations(clip1, clip2)\n            result.motion_results = motion.compareMotions(clip1, clip2)\n            result.shape_results = shape.compareHandShapesCosine(clip1, clip2)\n            result.face_result = face.compareFacesCosine(clip1, clip2)\n            results.append(result)\n\n        # incorrect results (different gestures, part 2)\n        for j in range(i + 1, 16):\n            result = Result(i, j)\n            clip2 = gestures[j].clips[0]\n            result.location_results = location.compareHandLocations(clip1, clip2)\n            result.motion_results = motion.compareMotions(clip1, clip2)\n            result.shape_results = shape.compareHandShapesCosine(clip1, clip2)\n            result.face_result = face.compareFacesCosine(clip1, clip2)\n            results.append(result)\n\n        with open(f\"results/{i}.pkl\", \"wb\") as writer:\n            pickle.dump(results, writer)"
        },
        {
            "cell_type": "code",
            "execution_count": 3,
            "id": "e82e5b00",
            "metadata": {
                "trusted": true
            },
            "outputs": [],
            "source": "# for feedback assessment\ndef processForFeedback(count):\n    for i in range(count):\n        print(f\"gesture {i} \", end=\"\\r\")\n        results = []\n        clip1 = gestures[i].clips[0]\n\n        for j in range(count):\n            result = Result(i, j)\n            for k in range(1, 16):\n                clip2 = gestures[j].clips[k]\n                result.location_results = location.compareHandLocations(clip1, clip2)\n                result.motion_results = motion.compareMotions(clip1, clip2)\n                result.shape_results = shape.compareHandShapesCosine(clip1, clip2)\n                result.face_result = face.compareFacesCosine(clip1, clip2)\n                results.append(result)\n\n        with open(f\"results/feedback_imbalanced/{i}.pkl\", \"wb\") as writer:\n            pickle.dump(results, writer)"
        },
        {
            "cell_type": "code",
            "execution_count": 4,
            "id": "535f795f",
            "metadata": {
                "trusted": false
            },
            "outputs": [
                {
                    "name": "stdout",
                    "output_type": "stream",
                    "text": "gesture 15 \r"
                }
            ],
            "source": "process(range(0, 16))"
        },
        {
            "cell_type": "code",
            "execution_count": 4,
            "id": "72e4773d",
            "metadata": {
                "trusted": true
            },
            "outputs": [
                {
                    "name": "stdout",
                    "output_type": "stream",
                    "text": "gesture 4 \r"
                }
            ],
            "source": "processForFeedback(5)"
        }
    ],
    "metadata": {
        "jupytext": {
            "notebook_metadata_filter": "-all"
        },
        "kernelspec": {
            "display_name": "Python 3 (ipykernel)",
            "language": "python",
            "name": "python3"
        },
        "language_info": {
            "codemirror_mode": {
                "name": "ipython",
                "version": 3
            },
            "file_extension": ".py",
            "mimetype": "text/x-python",
            "name": "python",
            "nbconvert_exporter": "python",
            "pygments_lexer": "ipython3",
            "version": "3.12.5"
        }
    },
    "nbformat": 4,
    "nbformat_minor": 5
}