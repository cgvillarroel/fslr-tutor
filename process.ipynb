{
    "cells": [
        {
            "cell_type": "code",
            "execution_count": 1,
            "id": "145ce568",
            "metadata": {
                "lines_to_next_cell": 2,
                "trusted": true
            },
            "outputs": [],
            "source": "# dots in file names mess up imports, manually do it\nimport importlib.util\nfrom structs.types import Result\n\n\ndef import_from_file(file_name, module_name):\n\n    spec = importlib.util.spec_from_file_location(\n        name=module_name,\n        location=file_name,\n    )\n    module = importlib.util.module_from_spec(spec)\n    spec.loader.exec_module(module)\n\n    return module\n\n\nlocation = import_from_file(\"modules/location.ju.py\", \"location\")\nmotion = import_from_file(\"modules/motion.ju.py\", \"motion\")\nshape = import_from_file(\"modules/shape.ju.py\", \"shape\")\nface = import_from_file(\"modules/face.ju.py\", \"shape\")"
        },
        {
            "cell_type": "code",
            "execution_count": 2,
            "id": "5287b37d",
            "metadata": {
                "lines_to_next_cell": 2,
                "trusted": true
            },
            "outputs": [
                {
                    "name": "stdout",
                    "output_type": "stream",
                    "text": "gesture 15  \r"
                }
            ],
            "source": "# load data\nimport pickle\n\ngestures = []\n\nfor i in range(16):\n    print(f\"gesture {i}  \", end=\"\\r\")\n    with open(f\"dataset/chunks/{i}.pkl\", \"rb\") as reader:\n        gestures.append(pickle.load(reader))"
        },
        {
            "cell_type": "code",
            "execution_count": 6,
            "id": "89a0ca14",
            "metadata": {
                "trusted": true
            },
            "outputs": [],
            "source": "# run through modules\nfrom random import randint\n\n\ndef processBinary(\n        output_folder=\"results\",\n        location_module=location.compareHandLocations,\n        motion_module=motion.compareMotions,\n        shape_module=shape.compareHandShapesCosine,\n        face_module=face.compareFacesCosine):\n    for i in range(16):\n        print(f\"gesture {i} \", end=\"\\r\")\n        results = []\n        # choose random \"reference\" clip\n        clip1_idx = randint(0, 15)\n        clip1 = gestures[i].clips[clip1_idx]\n\n        # correct results (same gesture, different clip)\n        for _ in range(0, 15):\n            try:\n                # get random other \"learner\" clip of the same gesture\n                random_idx = randint(0, 14)\n                clip2_idx = random_idx if random_idx < clip1_idx else random_idx + 1\n                clip2 = gestures[i].clips[clip2_idx]\n\n                # run through modules\n                result = Result(i, i)\n                result.location_results = location_module(clip1, clip2)\n                result.motion_results = motion_module(clip1.frames, clip2.frames)\n                result.shape_results = shape_module(clip1, clip2)\n                result.face_result = face_module(clip1, clip2)\n\n                results.append(result)\n\n            except:\n                pass\n\n        # incorrect results (different gestures)\n        for _ in range(0, 15):\n            try:\n                # some don't have facial features, just skip them\n                # get random other \"learner\" clip of a different gesture\n                random_idx = randint(0, 14)\n                gesture2_idx = random_idx if random_idx < i else random_idx + 1\n                clip2 = gestures[gesture2_idx].clips[randint(0, 15)]\n\n                # run through modules\n                result = Result(i, gesture2_idx)\n                result.location_results = location_module(clip1, clip2)\n                result.motion_results = motion_module(clip1.frames, clip2.frames)\n                result.shape_results = shape_module(clip1, clip2)\n                result.face_result = face_module(clip1, clip2)\n\n                results.append(result)\n\n            except:\n                pass\n\n        # save after every gesture (in case of fault)\n        with open(f\"{output_folder}/{i}.pkl\", \"wb\") as writer:\n            pickle.dump(results, writer)"
        },
        {
            "cell_type": "code",
            "execution_count": 7,
            "id": "e82e5b00",
            "metadata": {
                "trusted": true
            },
            "outputs": [],
            "source": "# for feedback assessment\n\n\ndef processMultiClass(\n        output_folder=\"results/feedback\",\n        location_module=location.compareHandLocations,\n        motion_module=motion.compareMotions,\n        shape_module=shape.compareHandShapesCosine,\n        face_module=face.compareFacesCosine):\n    for i in range(5):\n        print(f\"gesture {i} \", end=\"\\r\")\n        results = []\n\n        # choose random \"reference\" clip\n        clip1_idx = randint(0, 5)\n        clip1 = gestures[i].clips[clip1_idx]\n\n        for j in range(5):\n            for _ in range(1, 16):\n                try:\n                    clip2 = None\n\n                    gesture2_idx = i\n                    result = None\n                    # correct results (same gesture, different clip)\n                    if (i == j):\n                        # get random other \"learner\" clip of the same gesture\n                        random_idx = randint(0, 3)\n                        clip2_idx = random_idx if random_idx < clip1_idx else random_idx + 1\n                        clip2 = gestures[i].clips[clip2_idx]\n\n                    # incorrect results (different gestures)\n                    else:\n                        # get random other \"learner\" clip of a different gesture\n                        random_idx = randint(0, 3)\n                        gesture2_idx = random_idx if random_idx < i else random_idx + 1\n                        clip2 = gestures[gesture2_idx].clips[randint(0, 4)]\n\n                    # run through modules\n                    result = Result(i, gesture2_idx)\n                    result.location_results = location_module(clip1, clip2)\n                    result.motion_results = motion_module(clip1.frames, clip2.frames)\n                    result.shape_results = shape_module(clip1, clip2)\n                    result.face_result = face_module(clip1, clip2)\n\n                    results.append(result)\n\n                except:\n                    pass\n\n        # save after every gesture (in case of fault)\n        with open(f\"{output_folder}/{i}.pkl\", \"wb\") as writer:\n            pickle.dump(results, writer)"
        },
        {
            "cell_type": "code",
            "execution_count": 10,
            "id": "535f795f",
            "metadata": {
                "trusted": true
            },
            "outputs": [
                {
                    "name": "stdout",
                    "output_type": "stream",
                    "text": "results/binary/segmented-cosine\nresults/binary/segmented-euclid\ngesture 15 \r"
                }
            ],
            "source": "binary_configs = [\n    {\n        \"output_folder\": \"results/binary/naive-cosine\",\n        \"motion_module\": motion.compareMotions,\n        \"shape_module\": shape.compareHandShapesCosine,\n        \"face_module\": face.compareFacesCosine,\n    },\n    {\n        \"output_folder\": \"results/binary/segmented-cosine\",\n        \"motion_module\": motion.compareMotionsSegmented,\n        \"shape_module\": shape.compareHandShapesCosine,\n        \"face_module\": face.compareFacesCosine,\n    },\n    {\n        \"output_folder\": \"results/binary/naive-euclid\",\n        \"motion_module\": motion.compareMotions,\n        \"shape_module\": shape.compareHandShapesEuclid,\n        \"face_module\": face.compareFacesEuclid,\n    },\n    {\n        \"output_folder\": \"results/binary/segmented-euclid\",\n        \"motion_module\": motion.compareMotionsSegmented,\n        \"shape_module\": shape.compareHandShapesEuclid,\n        \"face_module\": face.compareFacesEuclid,\n    },\n]\n\nfor config in binary_configs:\n    print(config[\"output_folder\"])\n    processBinary(\n        output_folder=config[\"output_folder\"],\n        motion_module=config[\"motion_module\"],\n        shape_module=config[\"shape_module\"],\n        face_module=config[\"face_module\"])"
        },
        {
            "cell_type": "code",
            "execution_count": 9,
            "id": "72e4773d",
            "metadata": {
                "trusted": true
            },
            "outputs": [
                {
                    "name": "stdout",
                    "output_type": "stream",
                    "text": "results/multiclass/naive-euclid\nresults/multiclass/segmented-euclid\ngesture 4 \r"
                }
            ],
            "source": "multiclass_configs = [\n    {\n        \"output_folder\": \"results/multiclass/naive-cosine\",\n        \"motion_module\": motion.compareMotions,\n        \"shape_module\": shape.compareHandShapesCosine,\n        \"face_module\": face.compareFacesCosine,\n    },\n    {\n        \"output_folder\": \"results/multiclass/segmented-cosine\",\n        \"motion_module\": motion.compareMotionsSegmented,\n        \"shape_module\": shape.compareHandShapesCosine,\n        \"face_module\": face.compareFacesCosine,\n    },\n    {\n        \"output_folder\": \"results/multiclass/naive-euclid\",\n        \"motion_module\": motion.compareMotions,\n        \"shape_module\": shape.compareHandShapesEuclid,\n        \"face_module\": face.compareFacesEuclid,\n    },\n    {\n        \"output_folder\": \"results/multiclass/segmented-euclid\",\n        \"motion_module\": motion.compareMotionsSegmented,\n        \"shape_module\": shape.compareHandShapesEuclid,\n        \"face_module\": face.compareFacesEuclid,\n    },\n]\n\nfor config in multiclass_configs:\n    print(config[\"output_folder\"])\n    processMultiClass(\n        output_folder=config[\"output_folder\"],\n        motion_module=config[\"motion_module\"],\n        shape_module=config[\"shape_module\"],\n        face_module=config[\"face_module\"])"
        }
    ],
    "metadata": {
        "jupytext": {
            "notebook_metadata_filter": "-all"
        },
        "kernelspec": {
            "display_name": "Python 3 (ipykernel)",
            "language": "python",
            "name": "python3"
        },
        "language_info": {
            "codemirror_mode": {
                "name": "ipython",
                "version": 3
            },
            "file_extension": ".py",
            "mimetype": "text/x-python",
            "name": "python",
            "nbconvert_exporter": "python",
            "pygments_lexer": "ipython3",
            "version": "3.12.5"
        }
    },
    "nbformat": 4,
    "nbformat_minor": 5
}